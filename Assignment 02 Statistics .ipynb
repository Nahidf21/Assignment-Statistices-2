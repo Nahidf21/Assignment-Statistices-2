{
 "cells": [
  {
   "cell_type": "markdown",
   "id": "5cc9406d",
   "metadata": {},
   "source": [
    "Q1. What are the three measures of central tendency?\n"
   ]
  },
  {
   "cell_type": "code",
   "execution_count": 1,
   "id": "b886a072",
   "metadata": {},
   "outputs": [],
   "source": [
    "# 1. Mean 2. Mode 3. Median "
   ]
  },
  {
   "cell_type": "markdown",
   "id": "2e6fda90",
   "metadata": {},
   "source": [
    "Q2. What is the difference between the mean, median, and mode? How are they used to measure the\n",
    "central tendency of a dataset?"
   ]
  },
  {
   "cell_type": "code",
   "execution_count": 16,
   "id": "22955910",
   "metadata": {},
   "outputs": [],
   "source": [
    "import numpy as np\n",
    "import statistics as sta\n",
    "data= [1,2,3,4,5,5,6,6,7,3,4,5,6,7,100]\n"
   ]
  },
  {
   "cell_type": "code",
   "execution_count": 17,
   "id": "718fa85d",
   "metadata": {},
   "outputs": [
    {
     "data": {
      "text/plain": [
       "10.933333333333334"
      ]
     },
     "execution_count": 17,
     "metadata": {},
     "output_type": "execute_result"
    }
   ],
   "source": [
    "# mean \n",
    "mean= np.mean(data)\n",
    "mean"
   ]
  },
  {
   "cell_type": "code",
   "execution_count": 18,
   "id": "c8446645",
   "metadata": {},
   "outputs": [
    {
     "data": {
      "text/plain": [
       "5.0"
      ]
     },
     "execution_count": 18,
     "metadata": {},
     "output_type": "execute_result"
    }
   ],
   "source": [
    "median=np.median(data)\n",
    "median"
   ]
  },
  {
   "cell_type": "code",
   "execution_count": 20,
   "id": "6c2b17be",
   "metadata": {},
   "outputs": [
    {
     "data": {
      "text/plain": [
       "5"
      ]
     },
     "execution_count": 20,
     "metadata": {},
     "output_type": "execute_result"
    }
   ],
   "source": [
    "mode=sta.mode(data)\n",
    "mode"
   ]
  },
  {
   "cell_type": "code",
   "execution_count": 21,
   "id": "a5a8ba40",
   "metadata": {},
   "outputs": [],
   "source": [
    "# if we have outlier then we use Median, If we have missing value then we will use mode. In general, we will use mean.\n",
    "#mean shows the average."
   ]
  },
  {
   "cell_type": "markdown",
   "id": "7b477677",
   "metadata": {},
   "source": [
    "Q3. Measure the three measures of central tendency for the given height data:\n",
    "[178,177,176,177,178.2,178,175,179,180,175,178.9,176.2,177,172.5,178,176.5]"
   ]
  },
  {
   "cell_type": "code",
   "execution_count": 22,
   "id": "33cd0eeb",
   "metadata": {},
   "outputs": [],
   "source": [
    "data=[178,177,176,177,178.2,178,175,179,180,175,178.9,176.2,177,172.5,178,176.5]"
   ]
  },
  {
   "cell_type": "code",
   "execution_count": 23,
   "id": "811d48e9",
   "metadata": {},
   "outputs": [
    {
     "data": {
      "text/plain": [
       "177.01875"
      ]
     },
     "execution_count": 23,
     "metadata": {},
     "output_type": "execute_result"
    }
   ],
   "source": [
    "#mean\n",
    "mean= np.mean(data)\n",
    "mean"
   ]
  },
  {
   "cell_type": "code",
   "execution_count": 24,
   "id": "0edd4de4",
   "metadata": {},
   "outputs": [
    {
     "data": {
      "text/plain": [
       "178"
      ]
     },
     "execution_count": 24,
     "metadata": {},
     "output_type": "execute_result"
    }
   ],
   "source": [
    "#mode\n",
    "mode=sta.mode(data)\n",
    "mode"
   ]
  },
  {
   "cell_type": "code",
   "execution_count": 28,
   "id": "8b41d65d",
   "metadata": {},
   "outputs": [
    {
     "data": {
      "text/plain": [
       "177.0"
      ]
     },
     "execution_count": 28,
     "metadata": {},
     "output_type": "execute_result"
    }
   ],
   "source": [
    "#median \n",
    "median=np.median(data)\n",
    "median"
   ]
  },
  {
   "cell_type": "markdown",
   "id": "4e8dc62c",
   "metadata": {},
   "source": [
    "Q4. Find the standard deviation for the given data:\n",
    "[178,177,176,177,178.2,178,175,179,180,175,178.9,176.2,177,172.5,178,176.5]"
   ]
  },
  {
   "cell_type": "code",
   "execution_count": 39,
   "id": "de5fdbe1",
   "metadata": {},
   "outputs": [
    {
     "data": {
      "text/plain": [
       "1.7885814036548633"
      ]
     },
     "execution_count": 39,
     "metadata": {},
     "output_type": "execute_result"
    }
   ],
   "source": [
    "# using numpy \n",
    "data= [178,177,176,177,178.2,178,175,179,180,175,178.9,176.2,177,172.5,178,176.5]\n",
    "standard_deviation= np.std(data)\n",
    "standard_deviation"
   ]
  },
  {
   "cell_type": "code",
   "execution_count": 40,
   "id": "29dabfd6",
   "metadata": {},
   "outputs": [
    {
     "data": {
      "text/plain": [
       "1.847238930584419"
      ]
     },
     "execution_count": 40,
     "metadata": {},
     "output_type": "execute_result"
    }
   ],
   "source": [
    "#other way\n",
    "import math \n",
    "x_bar= np.mean(data)\n",
    "blank_list_for_sum=[]\n",
    "for x in data:\n",
    "    y=(x_bar-x)**2\n",
    "    blank_list_for_sum.append(y)\n",
    "result=sum(blank_list_for_sum)/(len(data)-1)\n",
    "standard_deviation_ow= math.sqrt(result)\n",
    "standard_deviation_ow"
   ]
  },
  {
   "cell_type": "markdown",
   "id": "6783d353",
   "metadata": {},
   "source": [
    "Q5. How are measures of dispersion such as range, variance, and standard deviation used to describe\n",
    "the spread of a dataset? Provide an example."
   ]
  },
  {
   "cell_type": "code",
   "execution_count": 46,
   "id": "255252fc",
   "metadata": {},
   "outputs": [],
   "source": [
    "# variance \n",
    "# variance has two formula one for popiletion data and another for sample data \n",
    "# sigma squar = sum(data point- mean)^2/size of the data - populetion data\n",
    "# s squar = sum(data point- mean)^2/(size of sample data-1)- sample data"
   ]
  },
  {
   "cell_type": "code",
   "execution_count": 47,
   "id": "80fa564d",
   "metadata": {},
   "outputs": [],
   "source": [
    "#standard deviation\n",
    "#standard deviation has two formula one for popiletion data and another for sample data \n",
    "# sigma = squar rut(sigma) - populetion data\n",
    "# s= squar rut(s)- sample data"
   ]
  },
  {
   "cell_type": "markdown",
   "id": "3111786a",
   "metadata": {},
   "source": [
    "Q6. What is a Venn diagram?"
   ]
  },
  {
   "cell_type": "code",
   "execution_count": 48,
   "id": "fe3dc890",
   "metadata": {},
   "outputs": [],
   "source": [
    "# we used venn diagram to visualise the sets operation . diffarance between the sets "
   ]
  },
  {
   "cell_type": "markdown",
   "id": "02457dd8",
   "metadata": {},
   "source": [
    "Q7. For the two given sets A = (2,3,4,5,6,7) & B = (0,2,6,8,10). Find:\n",
    "(i) A ⋂ B\n",
    "(ii) A ⋃ B"
   ]
  },
  {
   "cell_type": "code",
   "execution_count": 49,
   "id": "95d16512",
   "metadata": {},
   "outputs": [],
   "source": [
    "#(i) A ⋂ B = {2}\n",
    "#(ii) A ⋃ B = {0,2,3,4,5,6,7,8,10}"
   ]
  },
  {
   "cell_type": "markdown",
   "id": "24970f54",
   "metadata": {},
   "source": [
    "Q8. What do you understand about skewness in data?"
   ]
  },
  {
   "cell_type": "code",
   "execution_count": 51,
   "id": "b442a5ec",
   "metadata": {},
   "outputs": [],
   "source": [
    "# In normal distribution there is no skewness and mean = mode= median  ( normal distribution)\n",
    "# In Right skewed distribution ,  mean> median> mode ( log normal distribution)\n",
    "#In Left skewed distribution, mode > median > mean (log normal distribution)"
   ]
  },
  {
   "cell_type": "markdown",
   "id": "ec0f5e86",
   "metadata": {},
   "source": [
    "Q9. If a data is right skewed then what will be the position of median with respect to mean?"
   ]
  },
  {
   "cell_type": "code",
   "execution_count": 52,
   "id": "f21a01ab",
   "metadata": {},
   "outputs": [],
   "source": [
    "# mean> median "
   ]
  },
  {
   "cell_type": "markdown",
   "id": "2c3abc38",
   "metadata": {},
   "source": [
    "Q10. Explain the difference between covariance and correlation. How are these measures used in\n",
    "statistical analysis?"
   ]
  },
  {
   "cell_type": "code",
   "execution_count": 54,
   "id": "dd708b1e",
   "metadata": {},
   "outputs": [],
   "source": [
    "# Both show the relationship between two variables but correlation covariance give us more detail and trustable\n",
    "# information, the piarson and spearman correlation covariance provides more clear information.\n",
    "# from piarson and spearman correlation covariance ( 1 to -1), here 1 is most positive correletion, -1 is most negetive \n",
    "# correletion"
   ]
  },
  {
   "cell_type": "markdown",
   "id": "19989fb9",
   "metadata": {},
   "source": [
    "Q11. What is the formula for calculating the sample mean? Provide an example calculation for a\n",
    "dataset."
   ]
  },
  {
   "cell_type": "code",
   "execution_count": 56,
   "id": "25bca517",
   "metadata": {},
   "outputs": [
    {
     "data": {
      "text/plain": [
       "3.5"
      ]
     },
     "execution_count": 56,
     "metadata": {},
     "output_type": "execute_result"
    }
   ],
   "source": [
    "data=[1,2,3,4,5,6]\n",
    "np_res=np.mean(data)\n",
    "np_res"
   ]
  },
  {
   "cell_type": "code",
   "execution_count": 58,
   "id": "94612181",
   "metadata": {},
   "outputs": [
    {
     "data": {
      "text/plain": [
       "3.5"
      ]
     },
     "execution_count": 58,
     "metadata": {},
     "output_type": "execute_result"
    }
   ],
   "source": [
    "result= sum(data)/len(data)\n",
    "result"
   ]
  },
  {
   "cell_type": "markdown",
   "id": "f5ae3c56",
   "metadata": {},
   "source": [
    "Q12. For a normal distribution data what is the relationship between its measure of central tendency?"
   ]
  },
  {
   "cell_type": "code",
   "execution_count": 59,
   "id": "cbcee937",
   "metadata": {},
   "outputs": [],
   "source": [
    "# mean=mode=median"
   ]
  },
  {
   "cell_type": "markdown",
   "id": "c5c3976b",
   "metadata": {},
   "source": [
    "Q13. How is covariance different from correlation?"
   ]
  },
  {
   "cell_type": "code",
   "execution_count": 60,
   "id": "0177e6fe",
   "metadata": {},
   "outputs": [],
   "source": [
    "#Covariance measures the direction and strength of the linear relationship between two variables, \n",
    "#while correlation measures both the strength and direction of the linear relationship, \n",
    "#standardized to a range of -1 to +1."
   ]
  },
  {
   "cell_type": "markdown",
   "id": "eb1cb40a",
   "metadata": {},
   "source": [
    "Q14. How do outliers affect measures of central tendency and dispersion? Provide an example."
   ]
  },
  {
   "cell_type": "code",
   "execution_count": 61,
   "id": "f9c133f5",
   "metadata": {},
   "outputs": [],
   "source": [
    "data= [1,2,3,4,5,6,6,7,7,7,10,200]"
   ]
  },
  {
   "cell_type": "code",
   "execution_count": 62,
   "id": "1cc9072b",
   "metadata": {},
   "outputs": [
    {
     "data": {
      "text/plain": [
       "21.5"
      ]
     },
     "execution_count": 62,
     "metadata": {},
     "output_type": "execute_result"
    }
   ],
   "source": [
    "mean=np.mean(data)\n",
    "mean"
   ]
  },
  {
   "cell_type": "code",
   "execution_count": 63,
   "id": "9a71d733",
   "metadata": {},
   "outputs": [
    {
     "data": {
      "text/plain": [
       "6.0"
      ]
     },
     "execution_count": 63,
     "metadata": {},
     "output_type": "execute_result"
    }
   ],
   "source": [
    "median=np.median(data)\n",
    "median"
   ]
  },
  {
   "cell_type": "code",
   "execution_count": 64,
   "id": "b13e3c5f",
   "metadata": {},
   "outputs": [],
   "source": [
    "# from this example its clear that the mean is not correct because of the outliers effect, in this case we will use \n",
    "# median. "
   ]
  },
  {
   "cell_type": "code",
   "execution_count": null,
   "id": "7a88fbcc",
   "metadata": {},
   "outputs": [],
   "source": []
  }
 ],
 "metadata": {
  "kernelspec": {
   "display_name": "Python 3 (ipykernel)",
   "language": "python",
   "name": "python3"
  },
  "language_info": {
   "codemirror_mode": {
    "name": "ipython",
    "version": 3
   },
   "file_extension": ".py",
   "mimetype": "text/x-python",
   "name": "python",
   "nbconvert_exporter": "python",
   "pygments_lexer": "ipython3",
   "version": "3.9.13"
  }
 },
 "nbformat": 4,
 "nbformat_minor": 5
}
